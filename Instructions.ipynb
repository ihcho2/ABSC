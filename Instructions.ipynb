{
 "cells": [
  {
   "cell_type": "markdown",
   "id": "5493ca78",
   "metadata": {},
   "source": [
    "## Instructions"
   ]
  },
  {
   "cell_type": "markdown",
   "id": "1c39cf9d",
   "metadata": {},
   "source": [
    "### 1. Install several requirements"
   ]
  },
  {
   "cell_type": "code",
   "execution_count": null,
   "id": "b81f162a",
   "metadata": {},
   "outputs": [],
   "source": [
    "!pip3 install tensorflow\n",
    "!pip3 install tensorboardX\n",
    "!pip install transformers"
   ]
  },
  {
   "cell_type": "markdown",
   "id": "ee6f276a",
   "metadata": {},
   "source": [
    "### 2. Place the BERT model-related files and GloVE word embeddings following the instructions below."
   ]
  },
  {
   "cell_type": "markdown",
   "id": "feae0a4e",
   "metadata": {},
   "source": [
    "* 구글 드라이브 /code 에 있는 uncased_L-12_H-768_A-12.zip 과 glove.840B.300d.zip 을 './ABSC'에 업로드 후 아래 두 코드 실행"
   ]
  },
  {
   "cell_type": "code",
   "execution_count": null,
   "id": "e7f27506",
   "metadata": {},
   "outputs": [],
   "source": [
    "!unzip uncased_L-12_H-768_A-12.zip"
   ]
  },
  {
   "cell_type": "code",
   "execution_count": null,
   "id": "880c1567",
   "metadata": {},
   "outputs": [],
   "source": [
    "BERT_BASE_DIR='./uncased_L-12_H-768_A-12'\n",
    "\n",
    "!python3 convert_tf_to_pytorch/convert_tf_checkpoint_to_pytorch.py \\\n",
    "  --tf_checkpoint_path $BERT_BASE_DIR/bert_model.ckpt \\\n",
    "  --bert_config_file $BERT_BASE_DIR/bert_config.json \\\n",
    "  --pytorch_dump_path $BERT_BASE_DIR/pytorch_model.bin"
   ]
  },
  {
   "cell_type": "markdown",
   "id": "05281753",
   "metadata": {},
   "source": [
    "### 3. Create dependency graphs by running following codes"
   ]
  },
  {
   "cell_type": "markdown",
   "id": "769d9917",
   "metadata": {},
   "source": [
    "### 3.1 First check if the parser version is correct.\n",
    "* This could be useful to check compatibilities: https://github.com/explosion/spacy-models/blob/master/compatibility.json"
   ]
  },
  {
   "cell_type": "code",
   "execution_count": null,
   "id": "1813077c",
   "metadata": {},
   "outputs": [],
   "source": [
    "!pip3 install spacy==3.5"
   ]
  },
  {
   "cell_type": "code",
   "execution_count": null,
   "id": "8cbcd31c",
   "metadata": {},
   "outputs": [],
   "source": [
    "!python -m spacy download en_core_web_sm-3.5.0 --direct"
   ]
  },
  {
   "cell_type": "code",
   "execution_count": null,
   "id": "09e1862f",
   "metadata": {},
   "outputs": [],
   "source": [
    "!python -m spacy download en_core_web_lg-3.5.0 --direct"
   ]
  },
  {
   "cell_type": "code",
   "execution_count": null,
   "id": "c0656a16",
   "metadata": {},
   "outputs": [],
   "source": [
    "!python -m spacy info"
   ]
  },
  {
   "cell_type": "markdown",
   "id": "879f8620",
   "metadata": {},
   "source": [
    "### 3.2 Run the following codes in order to preprocess the data."
   ]
  },
  {
   "cell_type": "code",
   "execution_count": null,
   "id": "48ce861b",
   "metadata": {},
   "outputs": [],
   "source": [
    "!python generateGraph_spacy.py --parser_info 'spacy_sm_3.5.0' --create_global_vocabs True"
   ]
  },
  {
   "cell_type": "code",
   "execution_count": null,
   "id": "f25d1ec0",
   "metadata": {},
   "outputs": [],
   "source": [
    "!python data_utils_bert.py --parser_info 'spacy_sm_3.5.0'"
   ]
  },
  {
   "cell_type": "code",
   "execution_count": null,
   "id": "e894125b",
   "metadata": {},
   "outputs": [],
   "source": [
    "!python data_utils_roberta.py --parser_info 'spacy_sm_3.5.0'"
   ]
  }
 ],
 "metadata": {
  "kernelspec": {
   "display_name": "Python 3",
   "language": "python",
   "name": "python3"
  },
  "language_info": {
   "codemirror_mode": {
    "name": "ipython",
    "version": 3
   },
   "file_extension": ".py",
   "mimetype": "text/x-python",
   "name": "python",
   "nbconvert_exporter": "python",
   "pygments_lexer": "ipython3",
   "version": "3.7.12"
  }
 },
 "nbformat": 4,
 "nbformat_minor": 5
}
